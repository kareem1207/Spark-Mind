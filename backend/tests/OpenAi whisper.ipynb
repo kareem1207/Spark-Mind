{
 "cells": [
  {
   "cell_type": "code",
   "execution_count": 2,
   "id": "16eb1aed-a065-4a02-9129-8369852f092b",
   "metadata": {},
   "outputs": [
    {
     "name": "stdout",
     "output_type": "stream",
     "text": [
      "Torch: 2.8.0+cpu CUDA: False\n",
      "ffmpeg on PATH: True\n"
     ]
    }
   ],
   "source": [
    "import os, shutil, torch, whisper as ws\n",
    "\n",
    "print(\"Torch:\", torch.__version__, \"CUDA:\", torch.cuda.is_available())\n",
    "print(\"ffmpeg on PATH:\", bool(shutil.which(\"ffmpeg\")))"
   ]
  },
  {
   "cell_type": "code",
   "execution_count": 7,
   "id": "7f0b369f",
   "metadata": {},
   "outputs": [
    {
     "name": "stdout",
     "output_type": "stream",
     "text": [
      "Audio exists: True\n",
      " Ya, hijang yaakay kad morang para makapas\n"
     ]
    }
   ],
   "source": [
    "audio_path = r\"d:\\Spark Mind\\backend\\audio\\audio.mp3\"\n",
    "print(\"Audio exists:\", os.path.exists(audio_path))\n",
    "\n",
    "model = ws.load_model(\"base\", device=\"cpu\")\n",
    "result = model.transcribe(audio_path, fp16=False)\n",
    "print(result[\"text\"])"
   ]
  },
  {
   "cell_type": "code",
   "execution_count": null,
   "id": "2ed68070",
   "metadata": {},
   "outputs": [],
   "source": []
  }
 ],
 "metadata": {
  "kernelspec": {
   "display_name": "SparkMind",
   "language": "python",
   "name": "python3"
  },
  "language_info": {
   "codemirror_mode": {
    "name": "ipython",
    "version": 3
   },
   "file_extension": ".py",
   "mimetype": "text/x-python",
   "name": "python",
   "nbconvert_exporter": "python",
   "pygments_lexer": "ipython3",
   "version": "3.11.5"
  }
 },
 "nbformat": 4,
 "nbformat_minor": 5
}
