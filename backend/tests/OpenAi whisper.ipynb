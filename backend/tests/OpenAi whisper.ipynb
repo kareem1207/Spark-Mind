{
 "cells": [
  {
   "cell_type": "code",
   "execution_count": 14,
   "id": "16eb1aed-a065-4a02-9129-8369852f092b",
   "metadata": {},
   "outputs": [
    {
     "name": "stdout",
     "output_type": "stream",
     "text": [
      "Torch: 2.8.0+cpu CUDA: False\n",
      "ffmpeg on PATH: True\n"
     ]
    }
   ],
   "source": [
    "import os, shutil, torch, whisper as ws\n",
    "from typing import Any\n",
    "\n",
    "print(\"Torch:\", torch.__version__, \"CUDA:\", torch.cuda.is_available())\n",
    "print(\"ffmpeg on PATH:\", bool(shutil.which(\"ffmpeg\")))"
   ]
  },
  {
   "cell_type": "code",
   "execution_count": null,
   "id": "7f0b369f",
   "metadata": {},
   "outputs": [
    {
     "name": "stdout",
     "output_type": "stream",
     "text": [
      "Audio exists: True\n",
      "{'text': ' yahayong yakayong birahamati ka hasta gis', 'segments': [{'id': 0, 'seek': 0, 'start': 0.0, 'end': 2.0, 'text': ' yahayong yakayong', 'tokens': [50364, 288, 545, 320, 556, 288, 514, 320, 556, 50464], 'temperature': 0.2, 'avg_logprob': -0.8285265423002697, 'compression_ratio': 0.9534883720930233, 'no_speech_prob': 0.4767099618911743}, {'id': 1, 'seek': 0, 'start': 2.0, 'end': 4.0, 'text': ' birahamati ka hasta gis', 'tokens': [50464, 1904, 545, 335, 6908, 6799, 10764, 290, 271, 50564], 'temperature': 0.2, 'avg_logprob': -0.8285265423002697, 'compression_ratio': 0.9534883720930233, 'no_speech_prob': 0.4767099618911743}], 'language': 'tl'}\n"
     ]
    }
   ],
   "source": [
    "audio_path = r\"d:\\Spark Mind\\backend\\audio\\audio.mp3\"\n",
    "os.makedirs(r\"D:\\whisper_cache\", exist_ok=True)\n",
    "print(\"Audio exists:\", os.path.exists(audio_path))\n",
    "\n",
    "model: Any = ws.load_model(\"small\", device=\"cpu\", download_root=r\"D:\\whisper_cache\")\n",
    "result: dict = model.transcribe(audio_path, fp16=False, language=\"auto\", word_timestamps=True)\n",
    "print(result)"
   ]
  },
  {
   "cell_type": "code",
   "execution_count": null,
   "id": "2ed68070",
   "metadata": {},
   "outputs": [],
   "source": []
  }
 ],
 "metadata": {
  "kernelspec": {
   "display_name": "SparkMind",
   "language": "python",
   "name": "python3"
  },
  "language_info": {
   "codemirror_mode": {
    "name": "ipython",
    "version": 3
   },
   "file_extension": ".py",
   "mimetype": "text/x-python",
   "name": "python",
   "nbconvert_exporter": "python",
   "pygments_lexer": "ipython3",
   "version": "3.11.5"
  }
 },
 "nbformat": 4,
 "nbformat_minor": 5
}
